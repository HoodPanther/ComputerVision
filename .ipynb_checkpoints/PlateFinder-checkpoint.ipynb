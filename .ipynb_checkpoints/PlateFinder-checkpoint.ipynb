{
 "cells": [
  {
   "cell_type": "markdown",
   "metadata": {
    "deletable": true,
    "editable": true
   },
   "source": [
    "### Computer Vision Final Project\n",
    "Michael Edenzon and Griffin Hiers"
   ]
  },
  {
   "cell_type": "code",
   "execution_count": 34,
   "metadata": {
    "collapsed": false,
    "deletable": true,
    "editable": true
   },
   "outputs": [],
   "source": [
    "import CVFunctions as cv\n",
    "import numpy as np\n",
    "import cv2 as cv2\n",
    "import matplotlib.pyplot as plt\n",
    "import os\n",
    "%matplotlib inline\n",
    "\n",
    "# load template images\n",
    "filenames = os.listdir('dataset')\n",
    "images = []\n",
    "for filename in filenames:\n",
    "    images.append(cv2.imread('dataset/' + filename,0))\n"
   ]
  },
  {
   "cell_type": "code",
   "execution_count": 58,
   "metadata": {
    "collapsed": false,
    "deletable": true,
    "editable": true
   },
   "outputs": [
    {
     "data": {
      "image/png": "[encoded data removed]",
      "text/plain": [
       "<matplotlib.figure.Figure at 0x124194310>"
      ]
     },
     "metadata": {},
     "output_type": "display_data"
    },
    {
     "data": {
      "image/png": "[encoded data removed]",
      "text/plain": [
       "<matplotlib.figure.Figure at 0x11f8e4550>"
      ]
     },
     "metadata": {},
     "output_type": "display_data"
    }
   ],
   "source": [
    "def findPossiblePlates(image):\n",
    "    originalImage = image\n",
    "    IMG_SHAPE = originalImage.shape\n",
    "    img = originalImage\n",
    "    img = cv2.GaussianBlur(img, (19,11), 100)\n",
    "    img = cv.thresh(img,85, 255, cv2.THRESH_BINARY)\n",
    "    contours = cv.findContours(img)\n",
    "    largeContours = cv.getLargeContours(contours,originalImage.shape)\n",
    "    draw(cv.imageFromContours(largeContours,originalImage))\n",
    "    blankImage4 = np.zeros(IMG_SHAPE)\n",
    "    possiblePlateContours = []\n",
    "    \n",
    "    for i in range(len(largeContours)):\n",
    "        x,y,w,h = cv2.boundingRect(largeContours[i])\n",
    "        aspect = cv.aspectRatio(w,h)\n",
    "        if (aspect > 1) and (aspect < 3):\n",
    "            cv2.rectangle(blankImage4,(x,y),(x+w,y+h),(0.9,0.7,0.0),4)\n",
    "            possiblePlateContours.append(largeContours[i])\n",
    "\n",
    "    blankImage5 = np.zeros(originalImage.shape)\n",
    "    \n",
    "    for contour in possiblePlateContours:\n",
    "        x,y,w,h = cv2.boundingRect(contour)\n",
    "        blankImage5[y:y+h,x:x+w] = originalImage[y:y+h,x:x+w]\n",
    "\n",
    "    return blankImage5\n",
    "\n",
    "#for i in range(len(images),10):\n",
    "cv.draw(findPossiblePlates(images[10]))\n"
   ]
  },
  {
   "cell_type": "code",
   "execution_count": null,
   "metadata": {
    "collapsed": true,
    "deletable": true,
    "editable": true
   },
   "outputs": [],
   "source": []
  },
  {
   "cell_type": "code",
   "execution_count": 57,
   "metadata": {
    "collapsed": false,
    "deletable": true,
    "editable": true
   },
   "outputs": [
    {
     "data": {
      "image/png": "[encoded data removed]",
      "text/plain": [
       "<matplotlib.figure.Figure at 0x110d3a8d0>"
      ]
     },
     "metadata": {},
     "output_type": "display_data"
    },
    {
     "data": {
      "image/png": "[encoded data removed]",
      "text/plain": [
       "<matplotlib.figure.Figure at 0x1242d7dd0>"
      ]
     },
     "metadata": {},
     "output_type": "display_data"
    }
   ],
   "source": [
    "def findPossiblePlatesV(image):\n",
    "    originalImage = image\n",
    "    IMG_SHAPE = originalImage.shape\n",
    "    img = originalImage\n",
    "    img = cv2.GaussianBlur(img, (11,23), 100)\n",
    "    img = cv.thresh(img,85, 255, cv2.THRESH_BINARY)\n",
    "    contours = cv.findContours(img)\n",
    "    largeContours = cv.getLargeContours(contours,originalImage.shape)\n",
    "    draw(cv.imageFromContours(largeContours,originalImage))\n",
    "    blankImage4 = np.zeros(IMG_SHAPE)\n",
    "    possiblePlateContours = []\n",
    "    \n",
    "    for i in range(len(largeContours)):\n",
    "        x,y,w,h = cv2.boundingRect(largeContours[i])\n",
    "        aspect = cv.aspectRatio(w,h)\n",
    "        if (aspect > 1) and (aspect < 3):\n",
    "            cv2.rectangle(blankImage4,(x,y),(x+w,y+h),(0.9,0.7,0.0),4)\n",
    "            possiblePlateContours.append(largeContours[i])\n",
    "\n",
    "    blankImage5 = np.zeros(originalImage.shape)\n",
    "    \n",
    "    for contour in possiblePlateContours:\n",
    "        x,y,w,h = cv2.boundingRect(contour)\n",
    "        blankImage5[y:y+h,x:x+w] = originalImage[y:y+h,x:x+w]\n",
    "\n",
    "    return blankImage5\n",
    "\n",
    "#for i in range(len(images),10):\n",
    "cv.draw(findPossiblePlatesV(images[10]))\n"
   ]
  },
  {
   "cell_type": "code",
   "execution_count": null,
   "metadata": {
    "collapsed": true
   },
   "outputs": [],
   "source": []
  }
 ],
 "metadata": {
  "anaconda-cloud": {},
  "kernelspec": {
   "display_name": "Python [conda root]",
   "language": "python",
   "name": "conda-root-py"
  },
  "language_info": {
   "codemirror_mode": {
    "name": "ipython",
    "version": 2
   },
   "file_extension": ".py",
   "mimetype": "text/x-python",
   "name": "python",
   "nbconvert_exporter": "python",
   "pygments_lexer": "ipython2",
   "version": "2.7.13"
  }
 },
 "nbformat": 4,
 "nbformat_minor": 1
}
